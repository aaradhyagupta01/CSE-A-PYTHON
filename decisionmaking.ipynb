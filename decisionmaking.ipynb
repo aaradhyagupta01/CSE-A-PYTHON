{
 "cells": [
  {
   "cell_type": "markdown",
   "id": "e13cc6fa",
   "metadata": {},
   "source": [
    "## ACB, the Omni Bus Company, has decided to give a 20% traveling fare concession for senior citizens; the actual fare will be Rs 1020. The upper age limit for senior citizens is above 60. For verification, they will ask for the date of birth (take the year alone), and if satisfied, they will be given a concession and will be displayed the final traveling charge; if not, the original fare will be displayed. \n"
   ]
  },
  {
   "cell_type": "code",
   "execution_count": 1,
   "id": "ed59cc48",
   "metadata": {},
   "outputs": [
    {
     "name": "stdout",
     "output_type": "stream",
     "text": [
      "Enter the date of birth: 1950\n",
      "Enter the present date in year : 2023\n",
      "The fare to be paid is : 816.0\n"
     ]
    }
   ],
   "source": [
    "dob=int(input(\"Enter the date of birth: \"))\n",
    "present_date=int(input(\"Enter the present date in year : \"))\n",
    "if(present_date-dob)>60:\n",
    "    print(\"The fare to be paid is :\",1020-(20/100)*1020)\n",
    "else:\n",
    "    print(\"You have to pay: 1020\")"
   ]
  },
  {
   "cell_type": "markdown",
   "id": "0a04c1ea",
   "metadata": {},
   "source": [
    "## Pythoagorean A Rotary Club has decided to conduct a blood donation camp. The eligibility criteria for the blood donation camp will be that the person should be above 18 and his or her weight should be above 40. The volunteers will enter the name, age, and weight of the person, and then it will display whether they are eligible or not.Display \"1\" if they are eligible and \"0\" if they are not eligible.\n"
   ]
  },
  {
   "cell_type": "code",
   "execution_count": 2,
   "id": "e1516739",
   "metadata": {},
   "outputs": [
    {
     "name": "stdout",
     "output_type": "stream",
     "text": [
      "Name: Rakesh\n",
      "Age: 20\n",
      "Weight58\n",
      "1\n"
     ]
    }
   ],
   "source": [
    "name=input(\"Name: \")\n",
    "age=int(input(\"Age: \"))\n",
    "weight=int(input(\"Weight\"))\n",
    "if(age>18 and weight>40):\n",
    "    print(\"1\")\n",
    "else:\n",
    "    print(\"0\")\n",
    "    \n"
   ]
  },
  {
   "cell_type": "markdown",
   "id": "2785f910",
   "metadata": {},
   "source": [
    "## A company has decided to give bonuses to their employees based on their service.More than 10 Years: 10%More than 6 years and less than 10–8%Less than 6 years: 5%Ask the user to enter the salary and year of service and print their bonus.\n",
    "\n",
    "\n",
    "\n",
    "\n",
    "\n",
    "\n"
   ]
  },
  {
   "cell_type": "markdown",
   "id": "4707c407",
   "metadata": {},
   "source": [
    "\n"
   ]
  },
  {
   "cell_type": "code",
   "execution_count": 3,
   "id": "14c3b06e",
   "metadata": {},
   "outputs": [
    {
     "name": "stdout",
     "output_type": "stream",
     "text": [
      "Enter the salary: 10000\n",
      "Enter year of service: 11\n",
      "The bonus amoount is:  1000.0\n"
     ]
    }
   ],
   "source": [
    "salary=int(input(\"Enter the salary: \"))\n",
    "yos=int(input(\"Enter year of service: \"))\n",
    "if(yos>10):\n",
    "    print(\"The bonus amoount is: \",(10/100)*salary)\n",
    "if(yos>6 and yos<10):\n",
    "    print(\"The bonus amount is :\",(9/100)*salary)\n",
    "if(yos<6):\n",
    "    print(\"The bonus amount is: \")"
   ]
  },
  {
   "cell_type": "markdown",
   "id": "00839769",
   "metadata": {},
   "source": [
    "## Three numbers form a Pythogorean triple if the sum of the squares of two numbers is equal to the square of the third.For example, 3, 4, and 5 form a Pythagorean triple since 3 * 3 + 4 * 4 = 5*5.Enter the three numbers n1, n2, and n3 (they should be in increasing order). If they form a Pythoagorean triple, then print ‘1,\" otherwise print ‘0’¶"
   ]
  },
  {
   "cell_type": "code",
   "execution_count": 4,
   "id": "36c49678",
   "metadata": {},
   "outputs": [
    {
     "name": "stdout",
     "output_type": "stream",
     "text": [
      "Enter the first number3\n",
      "Enter the second number4\n",
      "Enter the third number5\n",
      "1\n"
     ]
    }
   ],
   "source": [
    "n1=int(input(\"Enter the first number\"))\n",
    "n2=int(input(\"Enter the second number\"))\n",
    "n3=int(input(\"Enter the third number\"))\n",
    "if(n1<n2 and n2<n3):\n",
    "    if(n1*n1+n2*n2==n3*n3):\n",
    "        print(\"1\")\n",
    "    else:\n",
    "        print(\"0\")\n",
    "else:\n",
    "    print(\"Enter the number in ascending order\")\n",
    "        "
   ]
  },
  {
   "cell_type": "markdown",
   "id": "2f305207",
   "metadata": {},
   "source": [
    "## Accept the name, age, gender (‘M’ or ‘F’), number of days, and display the wages accordingly.Age: greater than or equal to 18 and greater than 30, gender: \"M”, then wages will be Rs 700 per dayAge: greater than or equal to 18 and less than 30, gender: \"F\" then wages will be Rs 750 per day.If age is greater than or equal to 30 and less than or equal to 40, and gender is \"M’, then wages will be Rs 800 per day.Age: greater than or equal to 30 and less than or equal to 40; gender: \"F,\" then wages will be Rs 800 per day.\n",
    "\n"
   ]
  },
  {
   "cell_type": "code",
   "execution_count": 5,
   "id": "86068029",
   "metadata": {},
   "outputs": [
    {
     "name": "stdout",
     "output_type": "stream",
     "text": [
      "Enter the name: Pawan\n",
      "Enter the age20\n",
      "Enter genderM\n",
      "The wages will be Rs 700 per day\n"
     ]
    }
   ],
   "source": [
    "name=input(\"Enter the name: \")\n",
    "age=int(input(\"Enter the age\"))\n",
    "gender=input(\"Enter gender\")\n",
    "if(age>=18 and age<30 and gender==\"M\"):\n",
    "    print(\"The wages will be Rs 700 per day\")\n",
    "if(age>=18 and age<30 and gender==\"F\"):\n",
    "    print(\"The wages will be Rs 750 per day\")\n",
    "if(age>=30 and age<=40 and gender==\"M\"):\n",
    "    print(\"The wages will be Rs 800 per day\")\n",
    "if(age>=30 and age<=40 and gender==\"F\"):   \n",
    "    print(\"The wages will be Rs 800 per day\")\n"
   ]
  },
  {
   "cell_type": "markdown",
   "id": "fec0e3f2",
   "metadata": {},
   "source": [
    "## Restaurant Tip Calculator:Steps:Ratings will be: 1 is bad, 2 is not bad, 3 is average, 4 is good, and 5 is excellent.Read Food Rating: 1-5 Read Service Rating: 1-5 Read Ambience Rating: 1–5Read the bill's amount.If the food is good or excellent:Service and ambience are also good or excellent.Then the tip is 10% of your bill amount.Service and ambience are average/okay/bad.Then the tip is 5% of your amount.If the food is average, okay, or bad:Service and ambience are also good or excellent.Then the tip is 5% of your bill amount.Service and ambience are average/okay/bad.Then the tip is 1% of your bill amount.\n",
    "\n"
   ]
  },
  {
   "cell_type": "code",
   "execution_count": 16,
   "id": "57f5a9ba",
   "metadata": {},
   "outputs": [
    {
     "name": "stdout",
     "output_type": "stream",
     "text": [
      "your bill amount is: 500\n",
      "500.0\n",
      "Please give rating\n",
      "Enter the food rating: 2\n",
      "Enter the service rating: 3\n",
      "Enter the ambience rating: 4\n",
      "The tip amount is:  25.0\n"
     ]
    }
   ],
   "source": [
    "amount=float(input(\"your bill amount is: \"))\n",
    "print(amount)\n",
    "sentence=(\"Please give rating\")\n",
    "print(sentence)\n",
    "food_rating=int(input(\"Enter the food rating: \"))\n",
    "service_rating=int(input(\"Enter the service rating: \"))\n",
    "ambience_rating=int(input(\"Enter the ambience rating: \"))\n",
    "if(food_rating==4 or food_rating==5 and service_rating==4 or service_rating==5 and ambience_rating==4 or ambience_rating==5):\n",
    "    print(\"The tip amount is: \",(10/100)*amount)\n",
    "elif(service_rating==1 or service_rating==2 or service_rating==3 and ambience_rating==1 or  ambience_rating==2 or  ambience_rating==3):\n",
    "    print(\"The tip amount is: \",(5/100)*amount)\n",
    "elif(food_rating==4 or food_rating==2 or food_rating==1 and service_rating==4 or service_rating==5 and ambience==4 or service_rating==5):\n",
    "    print(\"The tip amount is: \",(5/100)*amount)\n",
    "elif(service_rating==3 or service_rating==2 or service_rating==1 and ambience_rating==3 or ambience_rating==2 or ambience_rating==1):\n",
    "    print(\"The tip amount is: \",(1/100)*amount)\n",
    "    "
   ]
  },
  {
   "cell_type": "markdown",
   "id": "cd95ee40",
   "metadata": {},
   "source": [
    "## The rules for determining whether or not a year is a leap year follow: Any year that is divisible by 400 is a leap year. Of the remaining years, any year that is divisible by 100 is not a leap year. Of the remaining years, any year that is divisible by 4 is a leap year. All other years are not leap years. Write a program that reads a year from the user and displays a message indicating whether or not it is a leap year. \n"
   ]
  },
  {
   "cell_type": "code",
   "execution_count": 1,
   "id": "774b17b0",
   "metadata": {},
   "outputs": [
    {
     "name": "stdout",
     "output_type": "stream",
     "text": [
      "2016 is a leap year\n"
     ]
    }
   ],
   "source": [
    "year = int(input(\"Enter a year: \"))\n",
    "if (year % 400 == 0) and (year % 100 == 0):\n",
    "    print(f\"{year} is a leap year\")\n",
    "elif (year % 4 ==0) and (year % 100 != 0):\n",
    "    print(f\"{year} is a leap year\")\n",
    "else:\n",
    "    print(f\"{year} is not a leap year\")"
   ]
  },
  {
   "cell_type": "markdown",
   "id": "65f07e55",
   "metadata": {},
   "source": [
    "## Accept a number from the user and check whether it's a positive number or not.\n"
   ]
  },
  {
   "cell_type": "code",
   "execution_count": 27,
   "id": "24518618",
   "metadata": {},
   "outputs": [
    {
     "name": "stdout",
     "output_type": "stream",
     "text": [
      "Enter a number5\n",
      "It is positive number\n"
     ]
    }
   ],
   "source": [
    "num=int(input(\"Enter a number\"))\n",
    "if(num>0):\n",
    "    print(\"It is positive number\")\n",
    "elif(num==0):\n",
    "    print(\"It is a zero\")\n",
    "else:\n",
    "    print(\"It is negative number\")"
   ]
  },
  {
   "cell_type": "markdown",
   "id": "7f6138ea",
   "metadata": {},
   "source": [
    "## Accept three sides of the triangle and check whether the triangle is possible or not.\n"
   ]
  },
  {
   "cell_type": "code",
   "execution_count": 2,
   "id": "db4ab154",
   "metadata": {},
   "outputs": [
    {
     "name": "stdout",
     "output_type": "stream",
     "text": [
      "Enter the first side: 5\n",
      "Enter the second side: 6\n",
      "Enter the third side4\n",
      "The triangle is possible\n"
     ]
    }
   ],
   "source": [
    "a=int(input(\"Enter the first side: \"))\n",
    "b=int(input(\"Enter the second side: \"))\n",
    "c=int(input(\"Enter the third side\"))\n",
    "if(a+b>c and b+c>a and c+a>b):\n",
    "    print(\"The triangle is possible\")\n",
    "else:\n",
    "    print(\"The triangle is not possible\")"
   ]
  },
  {
   "cell_type": "markdown",
   "id": "528d6074",
   "metadata": {},
   "source": [
    "## Check if the nth power of a number is even or not (get the number and the power as an input).\n"
   ]
  },
  {
   "cell_type": "code",
   "execution_count": 3,
   "id": "08f0c016",
   "metadata": {},
   "outputs": [
    {
     "name": "stdout",
     "output_type": "stream",
     "text": [
      "Enter the number5\n",
      "Enter the power3\n",
      "Odd\n"
     ]
    }
   ],
   "source": [
    "number=int(input(\"Enter the number\"))\n",
    "power=int(input(\"Enter the power\"))\n",
    "if((number**power)%2==0):\n",
    "    print(\"Even\")\n",
    "else:\n",
    "    print(\"Odd\")"
   ]
  },
  {
   "cell_type": "code",
   "execution_count": null,
   "id": "327aa4d6",
   "metadata": {},
   "outputs": [],
   "source": []
  }
 ],
 "metadata": {
  "kernelspec": {
   "display_name": "Python 3 (ipykernel)",
   "language": "python",
   "name": "python3"
  },
  "language_info": {
   "codemirror_mode": {
    "name": "ipython",
    "version": 3
   },
   "file_extension": ".py",
   "mimetype": "text/x-python",
   "name": "python",
   "nbconvert_exporter": "python",
   "pygments_lexer": "ipython3",
   "version": "3.10.4"
  }
 },
 "nbformat": 4,
 "nbformat_minor": 5
}
