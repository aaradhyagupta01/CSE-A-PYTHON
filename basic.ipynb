{
 "cells": [
  {
   "cell_type": "markdown",
   "id": "5e68b060",
   "metadata": {},
   "source": [
    "## Write a Python program to solve the equation z = |x  y| * (x + y)"
   ]
  },
  {
   "cell_type": "code",
   "execution_count": 1,
   "id": "3360d2d4",
   "metadata": {},
   "outputs": [
    {
     "name": "stdout",
     "output_type": "stream",
     "text": [
      "Enter the first number5\n",
      "Enter the second number10\n",
      "The result is: 75\n"
     ]
    }
   ],
   "source": [
    "x=int(input(\"Enter the first number\"))\n",
    "y=int(input(\"Enter the second number\"))\n",
    "z=abs((x+y)*(x-y))\n",
    "print(\"The result is:\",z)"
   ]
  },
  {
   "cell_type": "markdown",
   "id": "bc51cdc9",
   "metadata": {},
   "source": [
    "##  Write a Python program to calculate the surface volume and area of a cylinder.Formula: Volume = pi * radius * radius * height Surface area of a cylinder = ((2*pi*radius)*height) + ((pi*radius**2)*2)"
   ]
  },
  {
   "cell_type": "code",
   "execution_count": 2,
   "id": "9c384ca3",
   "metadata": {},
   "outputs": [
    {
     "name": "stdout",
     "output_type": "stream",
     "text": [
      "Enter the radius:5\n",
      "Enter the height:10\n",
      "volume is : 785.0\n",
      "surface area is : 471.0\n"
     ]
    }
   ],
   "source": [
    "pi=3.14\n",
    "radius=int(input(\"Enter the radius:\"))\n",
    "height=int(input(\"Enter the height:\"))\n",
    "Volume = pi * radius * radius * height \n",
    "Surfacearea = ((2*pi*radius)*height) + ((pi*radius**2)*2)\n",
    "print(\"volume is :\",Volume)\n",
    "print(\"surface area is :\",Surfacearea)\n",
    "    \n",
    "\n"
   ]
  },
  {
   "cell_type": "markdown",
   "id": "52d66ea1",
   "metadata": {},
   "source": [
    "##  Write a Python program to calculate the wind chill index.The program calculates the wind chill index using the formula:13.12 + 0.6215*t - 11.37*v**0.16 + 0.3965*t*v**0.16where t is the temperature in degrees Celsius and v is the wind speed in kilometers per hour. The calculated wind chill index is then rounded to the nearest integer. \n",
    "\n"
   ]
  },
  {
   "cell_type": "code",
   "execution_count": 11,
   "id": "f1c30afe",
   "metadata": {},
   "outputs": [
    {
     "name": "stdout",
     "output_type": "stream",
     "text": [
      "Enter the velocity:150\n",
      "Enter the temperature: 75\n",
      "The wind chill index is : 500\n"
     ]
    }
   ],
   "source": [
    "import math\n",
    "v=int(input(\"Enter the velocity:\"))\n",
    "t=int(input(\"Enter the temperature: \"))\n",
    "wci= (13.12 + 0.6215*t - 11.37*v*0.16 + 0.3965*t*v*0.16)\n",
    "print(\"The wind chill index is :\",math.floor(wci))"
   ]
  },
  {
   "cell_type": "code",
   "execution_count": null,
   "id": "db8c3a65",
   "metadata": {},
   "outputs": [],
   "source": []
  }
 ],
 "metadata": {
  "kernelspec": {
   "display_name": "Python 3 (ipykernel)",
   "language": "python",
   "name": "python3"
  },
  "language_info": {
   "codemirror_mode": {
    "name": "ipython",
    "version": 3
   },
   "file_extension": ".py",
   "mimetype": "text/x-python",
   "name": "python",
   "nbconvert_exporter": "python",
   "pygments_lexer": "ipython3",
   "version": "3.11.1"
  }
 },
 "nbformat": 4,
 "nbformat_minor": 5
}
