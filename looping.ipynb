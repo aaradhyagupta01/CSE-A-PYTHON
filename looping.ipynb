{
 "cells": [
  {
   "attachments": {},
   "cell_type": "markdown",
   "metadata": {},
   "source": [
    "1.Write a program to display the count of even and odd numbers in a given range.\n",
    "Sample Input\n",
    "Start: 20\n",
    "End : 50\n",
    "(inclusive of 20 and 50)\n",
    "Sample Output:\n",
    "Even : 16\n",
    "Odd : 15"
   ]
  },
  {
   "cell_type": "code",
   "execution_count": 4,
   "metadata": {},
   "outputs": [
    {
     "name": "stdout",
     "output_type": "stream",
     "text": [
      "Even:: 16\n",
      "Odd:: 15\n"
     ]
    }
   ],
   "source": [
    "a=int(input(\"Enter the starting value::\"))\n",
    "b=int(input(\"Enter the starting value::\"))\n",
    "count=0\n",
    "k=0\n",
    "for i in range(a,b+1):\n",
    "    if(i%2==0):\n",
    "     count+=1\n",
    "    else:\n",
    "        k+=1\n",
    "print(\"Even::\",count)\n",
    "print(\"Odd::\",k)"
   ]
  },
  {
   "attachments": {},
   "cell_type": "markdown",
   "metadata": {},
   "source": [
    "2.Write a program to display the factors of a given number.\n",
    "Sample Input\n",
    "56\n",
    "Sample output\n",
    "1, 2, 4, 7, 8, 14, 28, 56"
   ]
  },
  {
   "cell_type": "code",
   "execution_count": 3,
   "metadata": {},
   "outputs": [
    {
     "name": "stdout",
     "output_type": "stream",
     "text": [
      "[1, 2, 4, 7, 8, 14, 28, 56]\n"
     ]
    }
   ],
   "source": [
    "a = int(input('Enter the number:'))\n",
    "factors=[]\n",
    "for i in range(1,a+1):\n",
    "    if a%i==0:\n",
    "        factors.append(i)\n",
    "print(factors)"
   ]
  },
  {
   "attachments": {},
   "cell_type": "markdown",
   "metadata": {},
   "source": [
    "3.Write a program to display the prime in the given range. \n",
    "Sample Input\n",
    "1\n",
    "10\n",
    "Sample Output\n",
    "2 , 3 , 5 , 7"
   ]
  },
  {
   "cell_type": "code",
   "execution_count": 2,
   "metadata": {},
   "outputs": [
    {
     "name": "stdout",
     "output_type": "stream",
     "text": [
      "[2, 3, 5, 7]\n"
     ]
    }
   ],
   "source": [
    "a=int(input(\"Enter the start number::\"))\n",
    "b=int(input(\"Enter the last number::\"))\n",
    "prime=[]\n",
    "for i in range(a, b+1):\n",
    "   if i > 1:\n",
    "       for k in range(2, i):\n",
    "           if (i % k) == 0:\n",
    "               break\n",
    "       else:\n",
    "           prime.append(i)\n",
    "print(prime)"
   ]
  },
  {
   "attachments": {},
   "cell_type": "markdown",
   "metadata": {},
   "source": [
    "4.Write a program to display the multiplication table as below \n",
    "Sample Input \n",
    "5\n",
    "Sample Output\n",
    "5 * 1 = 5\n",
    "5 * 2 = 10\n",
    ".\n",
    ".\n",
    "5 * 10 = 50"
   ]
  },
  {
   "cell_type": "code",
   "execution_count": 1,
   "metadata": {},
   "outputs": [
    {
     "name": "stdout",
     "output_type": "stream",
     "text": [
      "5 * 1 = 5\n",
      "5 * 2 = 10\n",
      "5 * 3 = 15\n",
      "5 * 4 = 20\n",
      "5 * 5 = 25\n",
      "5 * 6 = 30\n",
      "5 * 7 = 35\n",
      "5 * 8 = 40\n",
      "5 * 9 = 45\n",
      "5 * 10 = 50\n"
     ]
    }
   ],
   "source": [
    "a=int(input(\"Enter the number::\"))\n",
    "for i in range(1,11):\n",
    "    print(a,\"*\",i,\"=\",a*i)"
   ]
  },
  {
   "attachments": {},
   "cell_type": "markdown",
   "metadata": {},
   "source": [
    "5.write a program to display the multiplication table as below with a given range\n",
    "Sample Input\n",
    "Start Table : 5\n",
    "End Table: 8\n",
    "Sample Output\n",
    "5 * 1 = 5\t\t6 * 1 = 6\t7 *1 = 7\t8*1 = 8\n",
    "5 * 2 = 10\t\t6*2 = 12\t7*2=14\t8*2= 16\n",
    ".\n",
    ".\n",
    "5 * 10 = 5"
   ]
  },
  {
   "cell_type": "code",
   "execution_count": 5,
   "metadata": {},
   "outputs": [
    {
     "name": "stdout",
     "output_type": "stream",
     "text": [
      "5*1=5\t6*1=6\t7*1=7\t8*1=8\t\n",
      "5*2=10\t6*2=12\t7*2=14\t8*2=16\t\n",
      "5*3=15\t6*3=18\t7*3=21\t8*3=24\t\n",
      "5*4=20\t6*4=24\t7*4=28\t8*4=32\t\n",
      "5*5=25\t6*5=30\t7*5=35\t8*5=40\t\n",
      "5*6=30\t6*6=36\t7*6=42\t8*6=48\t\n",
      "5*7=35\t6*7=42\t7*7=49\t8*7=56\t\n",
      "5*8=40\t6*8=48\t7*8=56\t8*8=64\t\n",
      "5*9=45\t6*9=54\t7*9=63\t8*9=72\t\n",
      "5*10=50\t6*10=60\t7*10=70\t8*10=80\t\n"
     ]
    }
   ],
   "source": [
    "a=int(input('Enter the 1st number :'))\n",
    "b=int(input('Enter the 2nd number :'))\n",
    "for j in range(1,11):\n",
    "    for i in range(a,b+1):\n",
    "        print(f'{i}*{j}={i*j}', end = '\\t')\n",
    "    print(\"\")"
   ]
  },
  {
   "attachments": {},
   "cell_type": "markdown",
   "metadata": {},
   "source": [
    "6.Write a program to display the multiplication table as below with a given range\n",
    "Sample Input\n",
    "Start Table : 5\n",
    "End Table: 8\n",
    "Sample Output:\n",
    "5*1 = 5\n",
    ".\n",
    ".\n",
    "5 * 5 = 25\n",
    "6*1 = 6\n",
    ".\n",
    ".\n",
    ".\n",
    "6*6=36\n",
    "7*1=7\n",
    ".\n",
    ".\n",
    ".\n",
    "7*7=49\n",
    "8*1=8\n",
    ".\n",
    ".\n",
    "8*8=64"
   ]
  },
  {
   "cell_type": "code",
   "execution_count": 6,
   "metadata": {},
   "outputs": [
    {
     "name": "stdout",
     "output_type": "stream",
     "text": [
      "5 * 1 = 5\n",
      "5 * 2 = 10\n",
      "5 * 3 = 15\n",
      "5 * 4 = 20\n",
      "5 * 5 = 25\n",
      "6 * 1 = 6\n",
      "6 * 2 = 12\n",
      "6 * 3 = 18\n",
      "6 * 4 = 24\n",
      "6 * 5 = 30\n",
      "6 * 6 = 36\n",
      "7 * 1 = 7\n",
      "7 * 2 = 14\n",
      "7 * 3 = 21\n",
      "7 * 4 = 28\n",
      "7 * 5 = 35\n",
      "7 * 6 = 42\n",
      "7 * 7 = 49\n",
      "8 * 1 = 8\n",
      "8 * 2 = 16\n",
      "8 * 3 = 24\n",
      "8 * 4 = 32\n",
      "8 * 5 = 40\n",
      "8 * 6 = 48\n",
      "8 * 7 = 56\n",
      "8 * 8 = 64\n"
     ]
    }
   ],
   "source": [
    "start = int(input(\"Enter the starting number::\"))\n",
    "end= int(input(\"Enter the ending number::\"))\n",
    "for i in range(start, end + 1):\n",
    "    for j in range(1, i + 1):\n",
    "        print(f\"{i} * {j} = {i * j}\")"
   ]
  },
  {
   "attachments": {},
   "cell_type": "markdown",
   "metadata": {},
   "source": [
    "7.Write a program that displays a temperature conversion table  for degrees Celsius and degrees Fahrenheit. The table should include rows for all temperatures between 0 and 100 degrees Celsius that are multiples of 10 degrees Celsius. Include appropriate headings on your columns. The formula for converting between degrees Celsius and degrees Fahrenheit\n",
    "Sample Output \n",
    "Celsius \tFahrenheit \n",
    "0 \t\t32.0 \n",
    "10 \t\t50.0 \n",
    "20 \t\t68.0 \n",
    "30\t\t86.0 \n",
    "40\t\t104.0 \n",
    "50 \t\t122.0 \n",
    "60\t\t140.0 \n",
    "70 \t\t158.0 \n",
    "50 \t\t176.0 \n",
    "90\t\t194.0 \n",
    "100 \t212.0"
   ]
  },
  {
   "cell_type": "code",
   "execution_count": 7,
   "metadata": {},
   "outputs": [
    {
     "name": "stdout",
     "output_type": "stream",
     "text": [
      "0\t\t32.0\n",
      "10\t\t50.0\n",
      "20\t\t68.0\n",
      "30\t\t86.0\n",
      "40\t\t104.0\n",
      "50\t\t122.0\n",
      "60\t\t140.0\n",
      "70\t\t158.0\n",
      "80\t\t176.0\n",
      "90\t\t194.0\n",
      "100\t\t212.0\n"
     ]
    }
   ],
   "source": [
    "for celsius in range(0, 101, 10):\n",
    "        fahrenheit = (celsius * 9/5) + 32\n",
    "        print(f\"{celsius}\\t\\t{fahrenheit:.1f}\")"
   ]
  },
  {
   "attachments": {},
   "cell_type": "markdown",
   "metadata": {},
   "source": [
    "8.Write a program to display the Amstrong numbers in the given range\n",
    "Enter lower range: 100\n",
    "Enter upper range: 1000\n",
    "The armstrong numbers are: \n",
    "153\n",
    "370\n",
    "371\n",
    "407"
   ]
  },
  {
   "cell_type": "code",
   "execution_count": 8,
   "metadata": {},
   "outputs": [
    {
     "name": "stdout",
     "output_type": "stream",
     "text": [
      "153\n",
      "370\n",
      "371\n",
      "407\n"
     ]
    }
   ],
   "source": [
    "lower = int(input(\"Enter lower range: \"))\n",
    "upper = int(input(\"Enter upper range: \"))\n",
    "for num in range(lower, upper + 1):\n",
    "    order = len(str(num))\n",
    "    sum = 0\n",
    "    temp = num\n",
    "    while temp > 0:\n",
    "        digit = temp % 10\n",
    "        sum += digit ** order\n",
    "        temp //= 10\n",
    "    if num == sum:\n",
    "        print(num)"
   ]
  },
  {
   "attachments": {},
   "cell_type": "markdown",
   "metadata": {},
   "source": [
    "9.Write a program to accept the numbers continuously, when we enter -1 it should\n",
    "stop accepting the input and at the same time it should display the number of even\n",
    "numbers and odd numbers that were entered.\n",
    "Sample Input\n",
    "Enter the number = 56\n",
    "Enter the number = 5\n",
    "Enter the number = 26\n",
    "Enter the number = 45\n",
    "Enter the number = 13\n",
    "Enter the number = 11\n",
    "Enter the number = 16\n",
    "Enter the number = 19\n",
    "Enter the number = 48\n",
    "Enter the number = -1\n",
    "Sample Output\n",
    "Number of Even Numbers Entered = 4\n",
    "Number of Odd Numbers Entered = 5"
   ]
  },
  {
   "cell_type": "code",
   "execution_count": 1,
   "metadata": {},
   "outputs": [
    {
     "name": "stdout",
     "output_type": "stream",
     "text": [
      "Number of Even Numbers Entered 4\n",
      "Number of Odd Numbers Entered 5\n"
     ]
    }
   ],
   "source": [
    "evencount=0\n",
    "oddcount=0\n",
    "\n",
    "while True:\n",
    "    i=int(input(\"Enter the number::\"))\n",
    "    if i==-1:\n",
    "        break\n",
    "    elif i%2==0:\n",
    "        evencount+=1\n",
    "    else:\n",
    "        oddcount+=1\n",
    "print(\"Number of Even Numbers Entered\",evencount)\n",
    "print(\"Number of Odd Numbers Entered\",oddcount)\n"
   ]
  }
 ],
 "metadata": {
  "kernelspec": {
   "display_name": "Python 3",
   "language": "python",
   "name": "python3"
  },
  "language_info": {
   "codemirror_mode": {
    "name": "ipython",
    "version": 3
   },
   "file_extension": ".py",
   "mimetype": "text/x-python",
   "name": "python",
   "nbconvert_exporter": "python",
   "pygments_lexer": "ipython3",
   "version": "3.10.4"
  },
  "orig_nbformat": 4
 },
 "nbformat": 4,
 "nbformat_minor": 2
}
