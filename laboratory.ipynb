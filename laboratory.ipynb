{
 "cells": [
  {
   "attachments": {},
   "cell_type": "markdown",
   "metadata": {},
   "source": [
    "1.Get an integer input from a user. If the number is odd, then find the factorial of the number and find the number of digits in the factorial of the number. If the number is even, then check if the given number is a palindrome or not."
   ]
  },
  {
   "cell_type": "code",
   "execution_count": 3,
   "metadata": {},
   "outputs": [
    {
     "name": "stdout",
     "output_type": "stream",
     "text": [
      "Factorial number is:: 6227020800\n",
      "Number of digits is:: 10\n"
     ]
    }
   ],
   "source": [
    "a=int(input(\"Enter the integer::\"))\n",
    "if a%2==0:\n",
    "    b=str(a)\n",
    "    c=b[::-1]\n",
    "    if str(a)==c:\n",
    "        print(\"pallindrome\")\n",
    "    else:\n",
    "        print(\"not pallindrome\")\n",
    "else:\n",
    "   fact=1\n",
    "   for i in range(1,a+1):\n",
    "        fact*=i\n",
    "   print(\"Factorial number is::\",fact)\n",
    "   z=str(fact)\n",
    "   print(\"Number of digits is::\",len(z))"
   ]
  },
  {
   "attachments": {},
   "cell_type": "markdown",
   "metadata": {},
   "source": [
    "2.Given two strings, PRINT (YES or NO) whether the second string can be obtained from the first by deletion of none, one or more characters."
   ]
  },
  {
   "cell_type": "code",
   "execution_count": 1,
   "metadata": {},
   "outputs": [
    {
     "name": "stdout",
     "output_type": "stream",
     "text": [
      "YES\n"
     ]
    }
   ],
   "source": [
    "def check(a,b):\n",
    "    for i in b:\n",
    "        if i not in a:\n",
    "            return \"NO\"\n",
    "    return \"YES\"\n",
    "\n",
    "\n",
    "a=input(\"Enter the first string::\")\n",
    "b=input(\"Enter the second string::\")\n",
    "c=check(a,b)\n",
    "print(c)\n"
   ]
  },
  {
   "attachments": {},
   "cell_type": "markdown",
   "metadata": {},
   "source": [
    "3 a.write a python program which reads a list of “n” numbers from the user, finds whether a particular number is present in the list or not, if present, then stores its positive and negative index in two different lists and displays the occurrence of the number.\n",
    "Sample Input\n",
    "[2, 6, 7, 12, 17, 7, 8, 2, 6, 20, 3, 5]\n",
    "Enter the element to be found : 7\n",
    "Sample Output\n",
    "Element 7 occurs 2 times in the list.\n",
    "Positive Index : 2, 5\n",
    "Negative Index : -7, -10\n"
   ]
  },
  {
   "cell_type": "code",
   "execution_count": 1,
   "metadata": {},
   "outputs": [
    {
     "name": "stdout",
     "output_type": "stream",
     "text": [
      "[2, 6, 7, 12, 17, 7, 8, 2, 6, 20, 3, 5]\n",
      "Element 7 occurs 2 times in the list\n",
      "Positive Index:: [2, 5]\n",
      "Negative Index:: [-10, -7]\n"
     ]
    }
   ],
   "source": [
    "a=[]\n",
    "c=int(input(\"how many number of list you want?\"))\n",
    "for i in range(c+1):\n",
    "    b=int(input(\"enter the number::\"))\n",
    "    x=a.append(b)\n",
    "d=int(input(\"Enter the number to be found::\"))\n",
    "print(a)\n",
    "if d in a:\n",
    "    k=a.count(d)\n",
    "    print(f\"Element {d} occurs {k} times in the list\")\n",
    "p_count=[]\n",
    "n_count=[]\n",
    "k=len(a)\n",
    "for i in range(0,k):\n",
    "    if a[i]==d:\n",
    "        p_count.append(i)\n",
    "        n_count.append(-len(a)+i)\n",
    "print(\"Positive Index::\",p_count)\n",
    "print(\"Negative Index::\",n_count)"
   ]
  },
  {
   "attachments": {},
   "cell_type": "markdown",
   "metadata": {},
   "source": [
    "b.Read the list of numbers and find whether the list is in ascending order or not.\n",
    "Sample Input\n",
    "Enter number of elements in list 5\n",
    "enter the value - 1\n",
    "enter the value - 2\n",
    "enter the value - 3\n",
    "enter the value - 6\n",
    "enter the value - 5\n",
    "Sample Output\n",
    "Original list : [1, 2, 3, 6, 5]\n",
    "No, the list is not in ascending order.\n",
    "Sample Input\n",
    "Enter number of elements in list 5\n",
    "enter the value - 10\n",
    "enter the value - 12\n",
    "enter the value - 13\n",
    "enter the value - 16\n",
    "enter the value - 19\n",
    "Sample Output\n",
    "Original list : [10, 12, 13, 16, 19]\n",
    "Yes, the list is in ascending order."
   ]
  },
  {
   "cell_type": "code",
   "execution_count": 1,
   "metadata": {},
   "outputs": [
    {
     "name": "stdout",
     "output_type": "stream",
     "text": [
      "Original list: [10, 12, 13, 16, 19]\n",
      "Yes,the list is in ascending order\n"
     ]
    }
   ],
   "source": [
    "a=int(input(\"How many no of elemnts want? \"))\n",
    "c=[]\n",
    "for i in range(a):\n",
    "    b=int(input(\"Enter the value- \"))\n",
    "    c.append(b)\n",
    "print(\"Original list:\",c)\n",
    "\n",
    "def ascending(c):\n",
    "    for i in range(len(c) - 1):\n",
    "        if c[i] > c[i + 1]:\n",
    "            return False\n",
    "    return True\n",
    "\n",
    "if ascending(c):\n",
    "    print(\"Yes,the list is in ascending order\")\n",
    "else:\n",
    "    print(\"No,the list is in ascending order\")"
   ]
  },
  {
   "attachments": {},
   "cell_type": "markdown",
   "metadata": {},
   "source": [
    "4.Write a python program to convert tuple to a string\n",
    "Sample Input \n",
    "tuple=(‘p’, ‘ y’, ’t’,, ‘h’, ’o’, ’n’)\n",
    "Sample Output\n",
    "python\n",
    "Write a python program to reverse a tuple\n",
    "Sample Input \n",
    "tuples = ('a','b','c','d','e','f','g','h')\n",
    "Sample Output \n",
    "('h', 'g', 'f', 'e', 'd', 'c', 'b', 'a')\n"
   ]
  },
  {
   "cell_type": "code",
   "execution_count": 2,
   "metadata": {},
   "outputs": [
    {
     "name": "stdout",
     "output_type": "stream",
     "text": [
      "tuple= ('a', 'r', 'y', 'a', 'n', 's', 'a', 'h')\n",
      "aryansah\n",
      "('h', 'a', 's', 'n', 'a', 'y', 'r', 'a')\n"
     ]
    }
   ],
   "source": [
    "a=(input(\"Enter the string::\"))\n",
    "b=tuple(a)\n",
    "print(\"tuple=\",b)\n",
    "c=''.join(b)\n",
    "print(c)\n",
    "\n",
    "reverse=b[::-1]\n",
    "print(reverse)"
   ]
  },
  {
   "attachments": {},
   "cell_type": "markdown",
   "metadata": {},
   "source": [
    "5.Write a python program to check if a set is a subset of another set.\n",
    "Sample Input \n",
    "a={1,2,3,4}\n",
    "b={1,2,3}\n",
    "Sample Output \n",
    "True\n"
   ]
  },
  {
   "cell_type": "code",
   "execution_count": 4,
   "metadata": {},
   "outputs": [
    {
     "name": "stdout",
     "output_type": "stream",
     "text": [
      "a= {1, 2, 3, 4}\n",
      "b= {1, 2, 3}\n",
      "True\n"
     ]
    }
   ],
   "source": [
    "x=[]\n",
    "y=[]\n",
    "z1=int(input(\"How many number of set-A want? \"))\n",
    "for i in range(z1):\n",
    "    p=int(input(\"Enter the elements:\"))\n",
    "    x.append(p)\n",
    "z2=int(input(\"Hoa many number of set-B want? \"))\n",
    "for j in range(z2):\n",
    "    q=int(input(\"Enter the elements:\"))\n",
    "    y.append(q)\n",
    "a=set(x)\n",
    "b=set(y)\n",
    "print(\"a=\",a)\n",
    "print(\"b=\",b)\n",
    "c = b.issubset(a)\n",
    "print(c)"
   ]
  },
  {
   "attachments": {},
   "cell_type": "markdown",
   "metadata": {},
   "source": [
    "6.Write a python program to iterate over dictionaries using for loop."
   ]
  },
  {
   "cell_type": "code",
   "execution_count": 6,
   "metadata": {},
   "outputs": [
    {
     "name": "stdout",
     "output_type": "stream",
     "text": [
      "{'aryan': '24', 'home': 'kalaiya', 'code': '44100'}\n",
      "\n",
      "\n",
      "Iterate over values::\n",
      "aryan\n",
      "home\n",
      "code\n",
      "\n",
      "\n",
      "Iterate over items(both key and value)::\n",
      "aryan 24\n",
      "home kalaiya\n",
      "code 44100\n"
     ]
    }
   ],
   "source": [
    "a={}\n",
    "while True:\n",
    "    key = input(\"Enter key (or 'q' to quit): \")\n",
    "    if key == 'q':\n",
    "        break\n",
    "    value = input(\"Enter value: \")\n",
    "    a[key] = value\n",
    "print(a)\n",
    "print(\"\\n\")\n",
    "print(\"Iterate over values::\")\n",
    "for key in a:\n",
    "    print(key)\n",
    "print(\"\\n\")\n",
    "print(\"Iterate over items(both key and value)::\")\n",
    "for key, value in a.items():\n",
    "    print(key, value)"
   ]
  }
 ],
 "metadata": {
  "kernelspec": {
   "display_name": "Python 3 (ipykernel)",
   "language": "python",
   "name": "python3"
  },
  "language_info": {
   "codemirror_mode": {
    "name": "ipython",
    "version": 3
   },
   "file_extension": ".py",
   "mimetype": "text/x-python",
   "name": "python",
   "nbconvert_exporter": "python",
   "pygments_lexer": "ipython3",
   "version": "3.10.8"
  },
  "orig_nbformat": 4
 },
 "nbformat": 4,
 "nbformat_minor": 2
}
